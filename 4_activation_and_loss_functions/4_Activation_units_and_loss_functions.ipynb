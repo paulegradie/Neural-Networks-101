{
 "cells": [
  {
   "cell_type": "markdown",
   "metadata": {},
   "source": [
    "# Activation Functions and Loss Functions"
   ]
  },
  {
   "cell_type": "markdown",
   "metadata": {},
   "source": [
    "Over the last three notebooks, we've covered some of the basic maths associated with neural networks, we've implemented a simple neural network, and we've talked generally about function optimization. We've also put these ideas in to practice to understand how backpropagation and gradient descent can be used to optimize a neural network. We've also discussed the notion of a universal function approximator. However, we don't quite yet have all of the pieces we need to understand how to approximate one function specifically over another.\n",
    "\n",
    "In the last notebook (towards the end), we briefly introduced an idea; data can be thought of as a distribution. For any set of data, there is some process that produces the data. Its unrealistic that we should have access to the totality of some dataset, so in every experiment we are always working with some subset of the total data produced by the process. This is important to consider, since the end goal for us is to approximate a function that maps input data (produced by the process) consistently to some label (which may or may not have a linear relationship with the process).\n",
    "\n",
    "Lets think of this in terms of an actual data set. \n",
    "\n",
    "The boston housing data set has several hundred samples. I don't know how many houses there are in Boston, but there are definitely a LOT more than several hundred houses. This means even with the entire dataset, we are only working with a subset of the total amount of data. The usual labels for this dataset are the housing prices, though we could choose to learn a function that predicts any of the features. These features come from the distribution of all features across all houses in Boston. Since we are interested in predicting housing prices, what we really want to do is approximate a function that maps feature sets (samples) from the distribution produced by the process that generates the data --> to the related distribution of housing prices associated with each of these feature sets.\n",
    "\n",
    "In this generic framework (the framework where we are thinking of input and target data as distributions) we can think about what it means to approximate a function using a neural network. We want to approximate a general mapping from samples in the data distribution to the associated labels in the target distribution such that when we attempt to map a data sample the model has never seen, it correctly maps it to its associated target value.\n",
    "\n",
    "In order to make this work in a neural network, we need a way to determine how far away the network prediction (attempted mapping) was from the true value. This is the job of the loss function; the thing that nudges the model parameters in the direction that bring the network closer to approximately mapping to the target distribution.\n",
    "\n",
    "#### The loss function\n",
    "The loss function is vital to any supervised machine learning algorithm - i.e. non-neural network algorithms. In order to approximate a function using a neural network, the problem must be posed via selection of an appropriate loss function that specifies the target distribution. \n",
    "\n",
    "#### Activation functions\n",
    "When modeling a non-linear relationships between input variables and target variables, we need a way to allow the neural network to deal with non-linearities. We achieve this by using activation functions that have a non-linear graph, i.e., a function that does not produce a linearly scaled output given some range of inputs. Activation functions are the final piece to the simple neural network puzzle.\n",
    "\n",
    "It turns out that in order to approximate non-linear functions, we need these so called 'non-linearities' (non-linear activation functions) to do so. It also turns out that when we'd like to pose a learning problem to a neural network, the choice of activation function on the final layer becomes really important, as we'll see later in this notebook. The size of the final layer, the activation function chosen to produce the final output, and the loss function togegher are in essence what defines the function to be approximated.\n",
    "\n",
    "In this notebook, we'll explore some of the properties of a few select activation functions and loss functions, and we'll discuss the relationships between some of them. More importantly, we'll attempt to understand why these relationships exist and how we might exploit them.\n",
    "\n",
    "What we'll cover in this notebook:\n",
    " - Activation functions\n",
    "     - what is an activation function?\n",
    "     - Why do we need differentiable (smooth) activation functions?\n",
    "     - The logistic function\n",
    "     - The hyperbolic tangent function\n",
    "     - The rectified linear function\n",
    "     - The interplay between activation functions and loss functions\n",
    " - Loss Functions\n",
    "     - Sum of Squares error\n",
    "     - Negative Log Likelihood\n",
    "     \n",
    " - Can you approximate a support vector machine?"
   ]
  },
  {
   "cell_type": "code",
   "execution_count": 1,
   "metadata": {},
   "outputs": [],
   "source": [
    "import numpy as np\n",
    "import matplotlib.pyplot as plt\n",
    "import seaborn as sns\n",
    "import pandas as pd"
   ]
  },
  {
   "cell_type": "code",
   "execution_count": 2,
   "metadata": {},
   "outputs": [],
   "source": [
    "def formatter(ax=None, title=''):\n",
    "    \"Helper to set a grid and 0 axis lines\"\n",
    "    if not ax:\n",
    "        plt.grid(True, alpha=0.4); plt.axvline(0, alpha=0.6); plt.axhline(0, alpha=0.6); plt.title(title)\n",
    "        return plt\n",
    "    else:\n",
    "        ax.grid(True, alpha=0.4); ax.axvline(0, alpha=0.6); ax.axhline(0, alpha=0.6); ax.set_title(title)\n",
    "        return ax"
   ]
  },
  {
   "cell_type": "markdown",
   "metadata": {},
   "source": [
    "\n",
    "# The non-linear activation function\n",
    "We've seen previously that when we implement a neural network without non-linear activation functions, we can at best approximate a linear function. When we apply a non-linear activation function, the neural network gains the property of being able to model any function. Any. Function. At. All.\n",
    "\n",
    "Not all activation functions are created equal though, and using one activation function over another has certain consequences on the behavior of the network as it converges on a solution."
   ]
  },
  {
   "cell_type": "markdown",
   "metadata": {},
   "source": [
    "### The sigmoid family of activation functions\n",
    "\n",
    "In the early days of neural networks, the computational model of a neuron consisted of a linear combination of inputs followed by the application of a very simple activation function that output a 1 or a zero. This function is known as the Perceptron."
   ]
  },
  {
   "cell_type": "markdown",
   "metadata": {},
   "source": [
    "$$ f(x)= \n",
    "\\begin{cases}\n",
    "    1,& \\text{if } x > 0\\\\\n",
    "    0,              & \\text{otherwise}\n",
    "\\end{cases}$$"
   ]
  },
  {
   "cell_type": "code",
   "execution_count": 3,
   "metadata": {},
   "outputs": [],
   "source": [
    "def single_unit_perceptron(x, weight=1, bias=0., show=False):\n",
    "    \"\"\"\n",
    "    We've placed the linear combination INSIDE this function\n",
    "    but normally it would be found outside\n",
    "    \"\"\"\n",
    "    linear_combination = x * weight + bias\n",
    "\n",
    "    if show:\n",
    "        print(linear_combination)\n",
    "\n",
    "    if linear_combination > 0.0:\n",
    "        return 1\n",
    "    else:\n",
    "        return 0"
   ]
  },
  {
   "cell_type": "code",
   "execution_count": 4,
   "metadata": {},
   "outputs": [
    {
     "name": "stdout",
     "output_type": "stream",
     "text": [
      "0.4\n",
      "-0.8\n"
     ]
    },
    {
     "data": {
      "text/plain": [
       "(1, 0)"
      ]
     },
     "execution_count": 4,
     "metadata": {},
     "output_type": "execute_result"
    }
   ],
   "source": [
    "single_unit_perceptron(0.4, show=True), \\\n",
    "single_unit_perceptron(-0.8, show=True)"
   ]
  },
  {
   "cell_type": "markdown",
   "metadata": {},
   "source": [
    "We could (and people have) built entire systems of Perceptrons. Buyt the problem with this function when it comes to learning is that it is not differentiable. For learning algorithms such as gradient descent, this is a very important, I dare say requisite, property for any activation function. We learned in the previous notebook that gradient descent depends on being able to find the derivative of the loss function and any activation function that is present throughout a network since being able to compute the Jacobian, or matrix of partial first derivatives, is what allows us to backpropagate the gradient of the error which is used to perform gradient descent.\n",
    "\n",
    "The outputs of the single unit Perceptron is shown below."
   ]
  },
  {
   "cell_type": "code",
   "execution_count": 5,
   "metadata": {},
   "outputs": [
    {
     "data": {
      "image/png": "[encoded data removed]",
      "text/plain": [
       "<Figure size 432x288 with 1 Axes>"
      ]
     },
     "metadata": {},
     "output_type": "display_data"
    }
   ],
   "source": [
    "x = np.linspace(-2, 2, 1000);\n",
    "y = [single_unit_perceptron(i) for i in x];\n",
    "\n",
    "fig, ax = plt.subplots()\n",
    "ax = formatter(ax, title='Perception output')\n",
    "\n",
    "i = int(len(x)/2)\n",
    "ax.plot(x[i:], y[i:], color='black');\n",
    "ax.plot(x[:i], y[:i], color='blue');"
   ]
  },
  {
   "cell_type": "markdown",
   "metadata": {},
   "source": [
    "Technically we can differentiate this function. BUT, it won't give us information with respect to the weights of the function given any error we are able to measure. Why? Because there is no slope to the function. All the outputs for inputs that are negative produce a straight horizontal line at $y=1$. The same is true for all inputs above zero. And lines have no slope. Essentially, the output can be written as $Y = 0x + b$ where $b=0$ or $b=1$. The derivative of this function is equal to the coefficient of the variable x, which is zero."
   ]
  },
  {
   "cell_type": "markdown",
   "metadata": {},
   "source": [
    "To overcome the limitation of the uniformative perceptron, researchers began experimenting with continuous functions that have slope. In particular, the sigmoid begam popular in the early days since it proved useful when training small neural networks. We've seen this before, but lets have another look:"
   ]
  },
  {
   "cell_type": "markdown",
   "metadata": {},
   "source": [
    "### The Logistic Function"
   ]
  },
  {
   "cell_type": "markdown",
   "metadata": {},
   "source": [
    "$$f(x) = \\frac{1}{1 + e^{-x}}$$"
   ]
  },
  {
   "cell_type": "code",
   "execution_count": 6,
   "metadata": {},
   "outputs": [],
   "source": [
    "def logistic_function(x):\n",
    "    return 1. / (1 + np.exp(-x))"
   ]
  },
  {
   "cell_type": "code",
   "execution_count": 7,
   "metadata": {},
   "outputs": [
    {
     "data": {
      "image/png": "[encoded data removed]",
      "text/plain": [
       "<Figure size 432x288 with 1 Axes>"
      ]
     },
     "metadata": {},
     "output_type": "display_data"
    }
   ],
   "source": [
    "x = np.linspace(-8, 8, 1000);\n",
    "y = [logistic_function(i) for i in x];\n",
    "\n",
    "fig, ax = plt.subplots()\n",
    "ax = formatter(ax, title='sigmoid output')\n",
    "\n",
    "i = int(len(x)/2)  # cut x and y in half\n",
    "ax.plot(x[i:], y[i:], color='black');\n",
    "ax.plot(x[:i], y[:i], color='blue');"
   ]
  },
  {
   "cell_type": "markdown",
   "metadata": {},
   "source": [
    "The `logistic_function` is a real valued function that is a member of a family of functions called sigmoid functions that all exhibit this characteristic curve. The logistic function is typically referred to as a sigmoid, but there are many sigmoid functions.\n",
    "\n",
    "Another sigmoid function you will likely come across is the hyperbolic tangent function:"
   ]
  },
  {
   "cell_type": "markdown",
   "metadata": {},
   "source": [
    "### The hyperbolic tangent function"
   ]
  },
  {
   "cell_type": "markdown",
   "metadata": {},
   "source": [
    "$$f(x) = tanh(x) = \\frac{e^x - e^{-x}}{e^x + e^{-x}}$$"
   ]
  },
  {
   "cell_type": "code",
   "execution_count": 8,
   "metadata": {},
   "outputs": [
    {
     "data": {
      "text/plain": [
       "2.718281828459045"
      ]
     },
     "execution_count": 8,
     "metadata": {},
     "output_type": "execute_result"
    }
   ],
   "source": [
    "np.e"
   ]
  },
  {
   "cell_type": "code",
   "execution_count": 9,
   "metadata": {},
   "outputs": [],
   "source": [
    "def tanh(x):\n",
    "    return ((np.e ** x) - (np.e ** -x)) / ((np.e ** x) + (np.e ** -x))"
   ]
  },
  {
   "cell_type": "code",
   "execution_count": 10,
   "metadata": {},
   "outputs": [
    {
     "data": {
      "image/png": "[encoded data removed]",
      "text/plain": [
       "<Figure size 432x288 with 1 Axes>"
      ]
     },
     "metadata": {},
     "output_type": "display_data"
    }
   ],
   "source": [
    "x = np.linspace(-8, 8, 1000);\n",
    "y = [tanh(i) for i in x];\n",
    "\n",
    "fig, ax = plt.subplots()\n",
    "ax = formatter(ax, title='hyperbolic tangent')\n",
    "\n",
    "i = int(len(x)/2)  # cut x and y in half\n",
    "ax.plot(x[i:], y[i:], color='black');\n",
    "ax.plot(x[:i], y[:i], color='blue');"
   ]
  },
  {
   "cell_type": "markdown",
   "metadata": {},
   "source": [
    "Both of these functions exhibit sigmoid behavior: They are both continuous, increasing to the right (monotonic), horizontally asymptotic, and most importantly - differentiable."
   ]
  },
  {
   "cell_type": "markdown",
   "metadata": {},
   "source": [
    "## Implications of choosing a sigmoid activation function\n",
    "\n",
    "These sorts of units have statistical implications associated with their use and the way we pose learning tasks is directly related to the activation functions we choose. For example, the logistic function can be interpreted as outputting a probability score since it outputs a value squashed between 0 and 1. For this reason, it is commonly used as an output unit with networks trained on binary classification tasks. On the input side, the values that the logistic function receives can be considered unnormalized log probabilities, or logits.\n",
    "\n",
    "#### Saturation of the activation function\n",
    "Another consideration is the potential for saturation of the activation function during training and what that means for the backpropagation of error and the computation of gradient. Both of these functions (logistic, tanh) both saturate relatively quickly when their inputs are greater or less than 2. During backpropagation, we compute the vector of partial derivatives of each layer with respect to the weights. In other words, we compute the derivative of the activation function and we compute the slope of the activation function using the derivative at the point output by the function.\n",
    "\n",
    "If we compute the derivative of the logistic or the tanh function between -2 and 2, there is a reasonable amount of information about the direction we must move in order to minimize the total loss. However if the activation unit saturates, the slope of the function moves towards zero and we get little information for the update."
   ]
  },
  {
   "cell_type": "code",
   "execution_count": 11,
   "metadata": {},
   "outputs": [],
   "source": [
    "def logistic_deriv(x):\n",
    "    return logistic_function(x) * (1. - logistic_function(x))"
   ]
  },
  {
   "cell_type": "code",
   "execution_count": 12,
   "metadata": {},
   "outputs": [
    {
     "data": {
      "image/png": "[encoded data removed]",
      "text/plain": [
       "<Figure size 432x288 with 1 Axes>"
      ]
     },
     "metadata": {},
     "output_type": "display_data"
    }
   ],
   "source": [
    "x = np.linspace(-8, 8, 1000);\n",
    "y = [logistic_function(i) for i in x];\n",
    "\n",
    "fig, ax = plt.subplots()\n",
    "ax = formatter(ax, title='sigmoid output')\n",
    "\n",
    "i = int(len(x)/2)  # cut x and y in half\n",
    "ax.plot(x[i:], y[i:], color='black');\n",
    "ax.plot(x[:i], y[:i], color='blue');"
   ]
  },
  {
   "cell_type": "code",
   "execution_count": 13,
   "metadata": {},
   "outputs": [],
   "source": [
    "def linear(x, m):\n",
    "    return x * m"
   ]
  },
  {
   "cell_type": "code",
   "execution_count": 14,
   "metadata": {},
   "outputs": [
    {
     "data": {
      "image/png": "[encoded data removed]",
      "text/plain": [
       "<Figure size 1152x576 with 6 Axes>"
      ]
     },
     "metadata": {},
     "output_type": "display_data"
    }
   ],
   "source": [
    "points = [0, 0.5, 1, 2.0, 4.0, 8.]\n",
    "\n",
    "fig, axes = plt.subplots(nrows=2, ncols=3, figsize=(16, 8))\n",
    "for point, ax in zip(points, axes.flatten()):\n",
    "    \n",
    "    ax = formatter(ax, title=f'slope at input: {point}')\n",
    "    x = np.linspace(-2, 2, 2)\n",
    "\n",
    "    # derivative plot\n",
    "    m = logistic_deriv(point)\n",
    "    y = linear(x, m=m)\n",
    "    \n",
    "    y_shift = logistic_function(point)\n",
    "    ax.plot(x+point, y+y_shift, linestyle='--')\n",
    "\n",
    "    # sigmoid plot\n",
    "    x = np.linspace(-8, 8, 1000);\n",
    "    y = [logistic_function(i) for i in x];\n",
    "    i = int(len(x)/2)  # cut x and y in half\n",
    "    ax.plot(x[i:], y[i:], color='black', alpha=0.4);\n",
    "    ax.plot(x[:i], y[:i], color='blue', alpha=0.4);"
   ]
  },
  {
   "cell_type": "markdown",
   "metadata": {},
   "source": [
    "### The rectified linear unit"
   ]
  },
  {
   "cell_type": "markdown",
   "metadata": {},
   "source": [
    "The sigmoid is useful in certain training situations, however it typically performs poorly when used to train wide and deep networks. The reason is that they will often be the cause of whats called exploding or vanishing gradients - where a large error of the network causes the accumulation of exceedingly tiny or overwhelmingly large gradient values computed during backpropogation.\n",
    "\n",
    "More recent research has pointed to the rectified linear unit, or ReLu, as a suitable alternative."
   ]
  },
  {
   "cell_type": "code",
   "execution_count": 15,
   "metadata": {},
   "outputs": [],
   "source": [
    "def relu(x):\n",
    "    if x > 0:\n",
    "        return x\n",
    "    else:\n",
    "        return 0"
   ]
  },
  {
   "cell_type": "code",
   "execution_count": 16,
   "metadata": {},
   "outputs": [
    {
     "data": {
      "image/png": "[encoded data removed]",
      "text/plain": [
       "<Figure size 432x288 with 1 Axes>"
      ]
     },
     "metadata": {},
     "output_type": "display_data"
    }
   ],
   "source": [
    "x = np.linspace(-5, 5, 100);\n",
    "y = [relu(i) for i in x];\n",
    "\n",
    "fig, ax = plt.subplots()\n",
    "ax = formatter(ax, title='relu output')\n",
    "\n",
    "i = int(len(x)/2)  # cut x and y in half\n",
    "ax.plot(x[i:], y[i:], color='black');\n",
    "ax.plot(x[:i], y[:i], color='blue');\n",
    "ax.set_xlim((-5, 5));"
   ]
  },
  {
   "cell_type": "markdown",
   "metadata": {},
   "source": [
    "This activation function has many useful properties. The two most important in practice is that it is trivial to differentiate, and maintains much of the desirable properties of a linear function. Linear functions form the basis of much of the work of a neural network, and it turns out that the closer we are able to remain to an overall linear structure, the easier networks are to train.\n",
    "\n",
    "Rectified linear units are technically not linear, since they introduce a non-linearity at the origin (hence the word rectified). Furthermore, the derivative is simply 1 for all inputs greater than 0, and 0 otherwise which helps stabilize training where linear-esque non-linear transformations are required to produce appropriate hidden representations of input variables while retaining the ability to model non-linear variable interactions.\n",
    "\n",
    "So called ReLus come with their own set of problems. In particular, ReLus can die when the network always produces negative outputs at a particular node/neuron."
   ]
  },
  {
   "cell_type": "markdown",
   "metadata": {},
   "source": [
    "### Interplay between output units and loss functions: the key to function approximation"
   ]
  },
  {
   "cell_type": "markdown",
   "metadata": {},
   "source": [
    "The first simple neural network we implemented in the second notebook approximated a function that performed linear regression. How can we tell? "
   ]
  },
  {
   "cell_type": "code",
   "execution_count": 17,
   "metadata": {},
   "outputs": [],
   "source": [
    "# This code will not run - its just a reminder\n",
    "try:\n",
    "    # Forward Pass\n",
    "    hidden_layer_out = np.dot(batch_input, hidden_weights) # No activation function\n",
    "    pred = np.dot(hidden_layer_out, output_weights) # No activation function\n",
    "\n",
    "    # loss\n",
    "    epoch_loss += loss_function(pred, batch_target)\n",
    "except:\n",
    "    pass"
   ]
  },
  {
   "cell_type": "markdown",
   "metadata": {},
   "source": [
    "First, we can tell that the network was truly a linear function approximator because no hidden unit in any layer employed a non-linear activation function. This network was only capable of approximating linear combinations of the input variables and thus can only approximate a linear function (in math speak, polynomials of arbitrary numbers of terms depending on the number of inputs but all specifically of degree 1).\n",
    "\n",
    "Second, we know that the output is a linearly scaled value conditioned on the network's input since the final layer has a single output that is not transformed via some non-linear function.\n",
    "\n",
    "Third, the final layer has but a single output, which represents a final linear combination which will produce a single value - which is the goal of a linear regression model - compute (y) given (x) and some coefficient set. \n",
    "\n",
    "If it looks like a duck, walks like a duck, and quacks like a duck... it must be a linear function approximator. But how do we enforce a linear regression approximation? Through the loss function.\n",
    "\n",
    "The loss function. The loss function we used in this neural network implementation was the sum of squared errors. We compute the error for each example in the batch, square each difference, and then sum them all together."
   ]
  },
  {
   "cell_type": "markdown",
   "metadata": {},
   "source": [
    "### Sum of Squares error\n",
    "\n",
    "$$ L(x) = \\frac{1}{2}(f(x) - y)^2 $$"
   ]
  },
  {
   "cell_type": "code",
   "execution_count": 18,
   "metadata": {},
   "outputs": [],
   "source": [
    "example_output = np.random.randint(10, 50, 10)\n",
    "labels = np.random.randint(10, 50, 10)"
   ]
  },
  {
   "cell_type": "code",
   "execution_count": 19,
   "metadata": {},
   "outputs": [
    {
     "data": {
      "text/plain": [
       "array([49, 29, 23, 35, 35, 41, 41, 13, 39, 43])"
      ]
     },
     "execution_count": 19,
     "metadata": {},
     "output_type": "execute_result"
    }
   ],
   "source": [
    "example_output"
   ]
  },
  {
   "cell_type": "code",
   "execution_count": 20,
   "metadata": {},
   "outputs": [
    {
     "data": {
      "text/plain": [
       "array([16, 48, 30, 18, 36, 48, 27, 48, 40, 26])"
      ]
     },
     "execution_count": 20,
     "metadata": {},
     "output_type": "execute_result"
    }
   ],
   "source": [
    "labels"
   ]
  },
  {
   "cell_type": "code",
   "execution_count": 21,
   "metadata": {},
   "outputs": [
    {
     "data": {
      "text/plain": [
       "array([-33,  19,   7, -17,   1,   7, -14,  35,   1, -17])"
      ]
     },
     "execution_count": 21,
     "metadata": {},
     "output_type": "execute_result"
    }
   ],
   "source": [
    "errors = labels - example_output\n",
    "errors"
   ]
  },
  {
   "cell_type": "code",
   "execution_count": 22,
   "metadata": {},
   "outputs": [
    {
     "data": {
      "text/plain": [
       "array([1089,  361,   49,  289,    1,   49,  196, 1225,    1,  289])"
      ]
     },
     "execution_count": 22,
     "metadata": {},
     "output_type": "execute_result"
    }
   ],
   "source": [
    "errors ** 2"
   ]
  },
  {
   "cell_type": "code",
   "execution_count": 23,
   "metadata": {},
   "outputs": [
    {
     "data": {
      "text/plain": [
       "3549"
      ]
     },
     "execution_count": 23,
     "metadata": {},
     "output_type": "execute_result"
    }
   ],
   "source": [
    "np.sum(errors ** 2)"
   ]
  },
  {
   "cell_type": "markdown",
   "metadata": {},
   "source": [
    "The absolute minimum loss we can achieve for a linear regression model depends on the variance of the data."
   ]
  },
  {
   "cell_type": "code",
   "execution_count": 24,
   "metadata": {},
   "outputs": [
    {
     "data": {
      "image/png": "[encoded data removed]",
      "text/plain": [
       "<Figure size 360x360 with 1 Axes>"
      ]
     },
     "metadata": {},
     "output_type": "display_data"
    }
   ],
   "source": [
    "x = np.linspace(5, 30, 100)\n",
    "y = x + np.random.normal(0, 2, len(x))\n",
    "\n",
    "d = np.hstack((x.reshape(-1, 1), y.reshape(-1, 1)))\n",
    "sns.lmplot(x='x', y='y', data=pd.DataFrame(d, columns=['x', 'y']), fit_reg=True)\n",
    "plt.title(\"Regression Task\");"
   ]
  },
  {
   "cell_type": "markdown",
   "metadata": {},
   "source": [
    "As the model fits the data, we use the loss function to compute distance from each predicted point to the actual point, and we adjust the coefficients to change the slope of the line through the data."
   ]
  },
  {
   "cell_type": "markdown",
   "metadata": {},
   "source": [
    "### Negative log likelihood\n",
    "\n",
    "Measuring this error using the sum of squares makes sense when measuring the distance from a regression line to a datapoint. But can we switch this loss function out with any other function and still produce a linear regression function approximation?\n",
    "\n",
    "No. \n",
    "\n",
    "Lets take the Maximum likelihood (negative log likelihood) loss and see what happens when we apply it to the linear regression task.\n",
    "\n",
    "$$ L(x) = -log(x) $$\n",
    "\n",
    "First of all, it should be immediately clear when we compute the negative log of a value, we are not measuring the distance between anything. If we cannot measure the distance between a predicted value and the value we were supposed to have computed, we can't determine how far off we were in our regression task. \n",
    "\n",
    "This shows immediately that this function will not serve to compute a suitable loss.\n",
    "\n",
    "#### Understanding the negative log loss function\n",
    "\n",
    "An instructive exercise to explore the characteristics of the negative log likelihood loss a bit further we can find other reasons it wouldn't work for linear regression tasks. (Say for example that we take the neg log of the difference between prediction and label).\n",
    "\n",
    "Let's make up some examples and see what happens."
   ]
  },
  {
   "cell_type": "code",
   "execution_count": 25,
   "metadata": {},
   "outputs": [
    {
     "data": {
      "text/plain": [
       "array([-1.        , -0.99979998, -0.99959996, ...,  0.99959996,\n",
       "        0.99979998,  1.        ])"
      ]
     },
     "execution_count": 25,
     "metadata": {},
     "output_type": "execute_result"
    }
   ],
   "source": [
    "# a tiny fraction of the total number of positions where could assign value for maximum likelihood\n",
    "x = np.linspace(-1, 1, 10000)\n",
    "x"
   ]
  },
  {
   "cell_type": "markdown",
   "metadata": {},
   "source": [
    "This function is continuous and defined for inputs greater than 0. This is a problem for regression, since it is completely possible that we are trying to predict a negative number.\n",
    "\n",
    "So let's say we take the absolute value, so we can keep going.\n",
    "\n",
    "If we discretize the space, we can easily assemble 10,000 positions where we might find a correct answer for our regression problem so we can see what the slope of this function looks like?"
   ]
  },
  {
   "cell_type": "code",
   "execution_count": 27,
   "metadata": {},
   "outputs": [
    {
     "data": {
      "image/png": "[encoded data removed]",
      "text/plain": [
       "<Figure size 432x288 with 1 Axes>"
      ]
     },
     "metadata": {},
     "output_type": "display_data"
    }
   ],
   "source": [
    "x = np.linspace(0.000001, 100, 10000);\n",
    "y = [-np.log(i) for i in x];\n",
    "\n",
    "fig, ax = plt.subplots(ncols=1)\n",
    "\n",
    "ax.plot(x, y, color='black');\n",
    "formatter(ax, title='-log(x) output')\n",
    "ax.set_xlim((-0.2, 1.5));"
   ]
  },
  {
   "cell_type": "markdown",
   "metadata": {},
   "source": [
    "What happens if the absolute value of the distance between the prediction and label is really small? That means that the model has performed well on predicting this value, so such an accurate prediction should be rewarded with a small loss. However, at very small values, the loss increases to infinity. Ths is the opposite of what we want.\n",
    "\n",
    "The same thing goes for when the difference measured is greater than 1. The loss would decrease to zero as the input to the loss function approaches 1, and then actually turns negative. A negative loss doesn't really work in general.\n",
    "\n",
    "So we can see here that if we want to train a model to predict a linear regression line of best fit (or hyperline of best fit), then we need to select an appropriate loss function that poses the task suitably."
   ]
  },
  {
   "cell_type": "markdown",
   "metadata": {},
   "source": [
    "### Normalized probability distributions"
   ]
  },
  {
   "cell_type": "markdown",
   "metadata": {},
   "source": [
    "If we can find a way to constrain the input to the negative log to be between 0 and 1, we can find a use for it. \n",
    "\n",
    "Say we want to perform a classification task: we want to compute the probability of an input belonging to a class. We have as many outputs now as we have classes, and our label is a vector that indicates which of the outputs is correct. If we take all of these outputs to represent unnormalized probabiliities, i.e. logits, we can normalize them together into a probaility distribution. We can use the label to select the output that was supposed to have had the highest value and pass that to the negative log likelihood function.\n",
    "\n",
    "Normalization is typically performed using the softmax function."
   ]
  },
  {
   "cell_type": "code",
   "execution_count": 28,
   "metadata": {},
   "outputs": [],
   "source": [
    "def neg_log(x):\n",
    "    return -np.log(x)"
   ]
  },
  {
   "cell_type": "code",
   "execution_count": 29,
   "metadata": {},
   "outputs": [
    {
     "data": {
      "text/plain": [
       "3.912023005428146"
      ]
     },
     "execution_count": 29,
     "metadata": {},
     "output_type": "execute_result"
    }
   ],
   "source": [
    "# a low probability at the correct class label results in a higher loss\n",
    "neg_log(0.02)"
   ]
  },
  {
   "cell_type": "code",
   "execution_count": 30,
   "metadata": {},
   "outputs": [
    {
     "data": {
      "text/plain": [
       "0.01005033585350145"
      ]
     },
     "execution_count": 30,
     "metadata": {},
     "output_type": "execute_result"
    }
   ],
   "source": [
    "# a high probability at the correct class results in lower loss\n",
    "neg_log(0.99)"
   ]
  },
  {
   "cell_type": "markdown",
   "metadata": {},
   "source": [
    "## Try for yourself: How to approximate the Support Vector Machine"
   ]
  },
  {
   "cell_type": "markdown",
   "metadata": {},
   "source": [
    "Lets say we want to approximate a support vector machine. As a project, see if you can implement a neural network that has the necessary activation functions, outputs, and loss function to approximate this function. How would you implement a linear SVM? How would you implement a kernalized SVM?\n",
    "\n",
    "\n",
    "## What other 'functions' do you suspect we might be able to approximate using a neural network?"
   ]
  },
  {
   "cell_type": "code",
   "execution_count": null,
   "metadata": {},
   "outputs": [],
   "source": []
  }
 ],
 "metadata": {
  "kernelspec": {
   "display_name": "Python 3",
   "language": "python",
   "name": "python3"
  },
  "language_info": {
   "codemirror_mode": {
    "name": "ipython",
    "version": 3
   },
   "file_extension": ".py",
   "mimetype": "text/x-python",
   "name": "python",
   "nbconvert_exporter": "python",
   "pygments_lexer": "ipython3",
   "version": "3.6.2"
  }
 },
 "nbformat": 4,
 "nbformat_minor": 2
}
